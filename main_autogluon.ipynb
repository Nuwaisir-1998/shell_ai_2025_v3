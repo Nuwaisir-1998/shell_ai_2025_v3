{
 "cells": [
  {
   "cell_type": "code",
   "execution_count": null,
   "id": "0d53956a",
   "metadata": {},
   "outputs": [],
   "source": [
    "import numpy as np\n",
    "import pandas as pd\n",
    "# import torch\n",
    "from autogluon.tabular import TabularPredictor\n",
    "from tqdm import tqdm\n",
    "\n",
    "# Load datasets\n",
    "# train = pd.read_csv('./dataset/train_imputed.csv')\n",
    "# test = pd.read_csv('./dataset/test_imputed.csv')\n",
    "train = pd.read_csv('./dataset/train.csv')\n",
    "test = pd.read_csv('./dataset/test.csv')\n",
    "submission = pd.read_csv('./dataset/sample_solution.csv')"
   ]
  },
  {
   "cell_type": "code",
   "execution_count": null,
   "id": "50d556c6",
   "metadata": {},
   "outputs": [],
   "source": [
    "# print(torch.cuda.is_available())"
   ]
  },
  {
   "cell_type": "code",
   "execution_count": null,
   "id": "9f22c65e",
   "metadata": {},
   "outputs": [],
   "source": [
    "# Feature and target columns\n",
    "feature_cols = list(train.columns[:55])\n",
    "target_cols = list(train.columns[55:])"
   ]
  },
  {
   "cell_type": "code",
   "execution_count": null,
   "id": "fd275957",
   "metadata": {},
   "outputs": [],
   "source": [
    "fraction_cols = feature_cols[:5]\n",
    "property_cols = feature_cols[5:]"
   ]
  },
  {
   "cell_type": "code",
   "execution_count": null,
   "id": "ae23ea57",
   "metadata": {},
   "outputs": [],
   "source": [
    "# for col in property_cols:\n",
    "#     component_i = col.split('_')[0][-1]\n",
    "#     train[f'{col}_times_fraction_{component_i}'] = train[col] * train[f'Component{component_i}_fraction']\n",
    "#     test[f'{col}_times_fraction_{component_i}'] = test[col] * test[f'Component{component_i}_fraction']"
   ]
  },
  {
   "cell_type": "code",
   "execution_count": null,
   "id": "62d5ff2e",
   "metadata": {},
   "outputs": [],
   "source": [
    "feature_cols_new = [col for col in train.columns if col not in target_cols]"
   ]
  },
  {
   "cell_type": "code",
   "execution_count": null,
   "id": "4db4ae59",
   "metadata": {},
   "outputs": [],
   "source": [
    "def next_best_blend(df_train, target_cols, blend_property, already_selected=None):\n",
    "    \"\"\"\n",
    "    Returns the next best blend based on correlation with BlendProperty1.\n",
    "    \"\"\"\n",
    "    for i in range(-1, -len(target_cols) - 1, -1):\n",
    "        idx = np.argsort(df_train[target_cols].corr()[blend_property]).iloc[i]\n",
    "        if target_cols[idx] not in already_selected:\n",
    "            return target_cols[idx], already_selected + [target_cols[idx]]\n",
    "\n",
    "blend_property = 'BlendProperty1'\n",
    "blend_chain = [blend_property]\n",
    "already_selected = [blend_property, 'BlendProperty3']\n",
    "while len(already_selected) < len(target_cols):\n",
    "    next_blend, already_selected = next_best_blend(train, target_cols, blend_property, already_selected)\n",
    "    blend_chain.append(next_blend)\n",
    "    blend_property = next_blend\n",
    "    # print(already_selected)\n",
    "    # print(f\"Next blend: {next_blend}, already selected: {already_selected}\")\n",
    "\n",
    "blend_chain = blend_chain + ['BlendProperty3']\n",
    "blend_chain"
   ]
  },
  {
   "cell_type": "code",
   "execution_count": null,
   "id": "77e53624",
   "metadata": {},
   "outputs": [],
   "source": [
    "# Directory to save models\n",
    "preset = 'best_quality'\n",
    "\n",
    "output_dir_base = f'./autogluon_models_{preset}/'\n",
    "\n",
    "# Train one model per target\n",
    "# for target in tqdm(blend_chain):\n",
    "for target in tqdm([f'BlendProperty{i}' for i in [9, 10]]):\n",
    "    print(f\"\\n🧠 Training AutoGluon model for: {target}\")\n",
    "    \n",
    "    print('Number of feature columns:', len(feature_cols_new))\n",
    "    \n",
    "    train_data = train[feature_cols_new + [target]]\n",
    "    predictor = TabularPredictor(\n",
    "        label=target,\n",
    "        path=f'{output_dir_base}/{target}',\n",
    "        problem_type='regression',\n",
    "        eval_metric='mean_absolute_percentage_error',\n",
    "        verbosity=4,\n",
    "        \n",
    "    ).fit(\n",
    "        train_data=train_data,\n",
    "        presets=preset,  # Try 'medium_quality_faster_train' for speed\n",
    "        # hyperparameters=automm_hyperparameters,\n",
    "        # time_limit=24*60  # seconds (10 min per target)\n",
    "        # num_gpus=1,\n",
    "        # included_model_types=['FT_TRANSFORMER'],\n",
    "        # ag_args_fit={'num_gpus': 1}\n",
    "    )\n",
    "\n",
    "    # Predict on test set\n",
    "    preds = predictor.predict(test[feature_cols_new])\n",
    "    submission[target] = preds\n",
    "    \n",
    "    np.save(f'model_oof_ag_best_b{target[-1]}.npy', predictor.predict_proba_oof().values)\n",
    "    \n",
    "\n",
    "    # test[target] = preds\n",
    "    # feature_cols_new.append(target)\n",
    "\n",
    "# Save final submission\n",
    "# submission.to_csv(f'submission_autogluon_time_fraction_{preset}_b9.csv', index=False)"
   ]
  },
  {
   "cell_type": "code",
   "execution_count": null,
   "id": "dfae1b59",
   "metadata": {},
   "outputs": [],
   "source": []
  },
  {
   "cell_type": "code",
   "execution_count": null,
   "id": "1e4a084a",
   "metadata": {},
   "outputs": [],
   "source": [
    "predictor.leaderboard()"
   ]
  },
  {
   "cell_type": "code",
   "execution_count": null,
   "id": "5e24e681",
   "metadata": {},
   "outputs": [],
   "source": [
    "# pd.read_csv('submission_autogluon_time_fraction_best_quality.csv')"
   ]
  },
  {
   "cell_type": "code",
   "execution_count": null,
   "id": "ba9eb6ee",
   "metadata": {},
   "outputs": [],
   "source": [
    "for target_num in range(9, 11):\n",
    "    predictor = TabularPredictor.load(f'./autogluon_models_best_quality/BlendProperty{target_num}')\n",
    "    np.save(f'./ag_preds/pred_b{target_num}' , predictor.predict(test).values)"
   ]
  },
  {
   "cell_type": "code",
   "execution_count": null,
   "id": "8221232c",
   "metadata": {},
   "outputs": [],
   "source": [
    "# import pickle\n",
    "# import shap\n",
    "\n",
    "map_blend_to_mape = {}\n",
    "\n",
    "for i in tqdm(range(1, 10 + 1)):\n",
    "    predictor = TabularPredictor.load(output_dir_base + f'/BlendProperty{i}')\n",
    "    # y_pred = predictor.predict(train[feature_cols])\n",
    "    # y_true = train[f'BlendProperty{i}']\n",
    "    # map_blend_to_mape[i] = abs(predictor.evaluate_predictions(y_true, y_pred)['mean_absolute_percentage_error'])\n",
    "    print('BlendProperty', i)\n",
    "    print(predictor.leaderboard().head()[['model', 'score_val']])\n",
    "# map_blend_to_mape\n",
    "\n"
   ]
  },
  {
   "cell_type": "code",
   "execution_count": null,
   "id": "95cdf451",
   "metadata": {},
   "outputs": [],
   "source": [
    "predictor.leaderboard()"
   ]
  },
  {
   "cell_type": "code",
   "execution_count": null,
   "id": "2096fa2a",
   "metadata": {},
   "outputs": [],
   "source": [
    "# train[feature_cols + [target]]\n",
    "target = target_cols[i-1]"
   ]
  },
  {
   "cell_type": "code",
   "execution_count": null,
   "id": "df933dcb",
   "metadata": {},
   "outputs": [],
   "source": [
    "for i in range(1, 10 + 1):\n",
    "    target = target_cols[i-1]\n",
    "    predictor = TabularPredictor.load(f'./autogluon_models/BlendProperty{i}')\n",
    "    predictor.feature_importance(train[feature_cols + [target]]).to_csv(f'importances/blend{i}.csv')"
   ]
  },
  {
   "cell_type": "code",
   "execution_count": null,
   "id": "6b4dc912",
   "metadata": {},
   "outputs": [],
   "source": [
    "i = 2\n",
    "target = target_cols[i-1]\n",
    "predictor = TabularPredictor.load(f'./autogluon_models/BlendProperty{i}')\n",
    "predictor.feature_importance(train[feature_cols + [target]])"
   ]
  },
  {
   "cell_type": "code",
   "execution_count": null,
   "id": "8e826625",
   "metadata": {},
   "outputs": [],
   "source": [
    "train['BlendProperty3'].max()"
   ]
  },
  {
   "cell_type": "code",
   "execution_count": null,
   "id": "99bce4ee",
   "metadata": {},
   "outputs": [],
   "source": [
    "df = pd.read_csv('submission_autogluon_avg_86.45445.csv')\n",
    "\n",
    "df['BlendProperty7'] = (df['BlendProperty3'] - 0.02)\n",
    "df['BlendProperty3'] = df['BlendProperty3'].clip(upper=1.63)\n",
    "\n",
    "df.to_csv('submission_autogluon_avg_86.45445_7=3.csv', index=False)"
   ]
  },
  {
   "cell_type": "code",
   "execution_count": null,
   "id": "481f5072",
   "metadata": {},
   "outputs": [],
   "source": []
  }
 ],
 "metadata": {
  "kernelspec": {
   "display_name": "ag",
   "language": "python",
   "name": "python3"
  },
  "language_info": {
   "codemirror_mode": {
    "name": "ipython",
    "version": 3
   },
   "file_extension": ".py",
   "mimetype": "text/x-python",
   "name": "python",
   "nbconvert_exporter": "python",
   "pygments_lexer": "ipython3",
   "version": "3.11.13"
  }
 },
 "nbformat": 4,
 "nbformat_minor": 5
}
