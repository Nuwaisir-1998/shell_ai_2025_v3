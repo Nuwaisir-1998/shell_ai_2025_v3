{
 "cells": [
  {
   "cell_type": "code",
   "execution_count": 7,
   "id": "5190015f",
   "metadata": {},
   "outputs": [],
   "source": [
    "import pandas as pd\n",
    "import numpy as np\n",
    "from sklearn.metrics import mean_absolute_percentage_error"
   ]
  },
  {
   "cell_type": "code",
   "execution_count": 2,
   "id": "63305a82",
   "metadata": {},
   "outputs": [],
   "source": [
    "df_train = pd.read_csv('./dataset/train.csv')\n",
    "df_test = pd.read_csv('./dataset/test.csv')\n",
    "df_sample_solution = pd.read_csv('./dataset/sample_solution.csv')"
   ]
  },
  {
   "cell_type": "code",
   "execution_count": 3,
   "id": "c70c6518",
   "metadata": {},
   "outputs": [],
   "source": [
    "df_train.iloc[:200].to_csv('./dataset/train_small.csv', index=False)\n",
    "df_test.iloc[:200].to_csv('./dataset/test_small.csv', index=False)"
   ]
  },
  {
   "cell_type": "code",
   "execution_count": 42,
   "id": "d5e17817",
   "metadata": {},
   "outputs": [],
   "source": [
    "def calculate_score(target_col):\n",
    "    y_pred = np.load(f'./ag_oofs_exp/model_oof_ag_experimental_quality_b{target_col}.npy')\n",
    "    y_true = df_train[f'BlendProperty{target_col}'].values\n",
    "    mape = mean_absolute_percentage_error(y_true, y_pred)\n",
    "    score = (100 - 90 * mape / 2.72)\n",
    "    return score"
   ]
  },
  {
   "cell_type": "code",
   "execution_count": null,
   "id": "9caac72c",
   "metadata": {},
   "outputs": [],
   "source": [
    "import os\n",
    "import json\n",
    "\n",
    "for i in range(1, 11):\n",
    "    save_path = f'./runs/autogluon/run_{i}/'\n",
    "    os.makedirs(save_path, exist_ok=True)\n",
    "    score = calculate_score(i)\n",
    "    params = {\n",
    "        'preset': 'experimental_quality',\n",
    "        'score': score,\n",
    "        'target_col_name': f'BlendProperty{i}'\n",
    "    }\n",
    "    with open(f\"{save_path}/params.json\", \"w\") as f:\n",
    "        f.write(json.dumps(params, indent=4))  # indent=4 makes it human-readable\n",
    "    oof_pred = np.load(f'./ag_oofs/model_oof_ag_best_b{i}.npy')\n",
    "    np.save(f'{save_path}/df_oof_preds.npy', oof_pred)\n",
    "    pd.DataFrame([score], columns=['Score']).to_csv(f'{save_path}/score.csv')\n",
    "    "
   ]
  },
  {
   "cell_type": "code",
   "execution_count": 43,
   "id": "2531848a",
   "metadata": {},
   "outputs": [],
   "source": [
    "import os\n",
    "import json\n",
    "\n",
    "for i in [3, 7, 9]:\n",
    "    save_path = f'./runs/autogluon_exp/run_{i}/'\n",
    "    os.makedirs(save_path, exist_ok=True)\n",
    "    score = calculate_score(i)\n",
    "    params = {\n",
    "        'preset': 'best_quality',\n",
    "        'score': score,\n",
    "        'target_col_name': f'BlendProperty{i}'\n",
    "    }\n",
    "    with open(f\"{save_path}/params.json\", \"w\") as f:\n",
    "        f.write(json.dumps(params, indent=4))  # indent=4 makes it human-readable\n",
    "    oof_pred = np.load(f'./ag_oofs_exp/model_oof_ag_experimental_quality_b{i}.npy')\n",
    "    np.save(f'{save_path}/df_oof_preds.npy', oof_pred)\n",
    "    pd.DataFrame([score], columns=['Score']).to_csv(f'{save_path}/score.csv')\n",
    "    "
   ]
  },
  {
   "cell_type": "code",
   "execution_count": 33,
   "id": "93ec8834",
   "metadata": {},
   "outputs": [
    {
     "name": "stdout",
     "output_type": "stream",
     "text": [
      " \u001b[0m\u001b[01;34mag_oofs\u001b[0m/               README.md\n",
      " \u001b[01;34mag_preds\u001b[0m/              \u001b[01;34mruns\u001b[0m/\n",
      " \u001b[34;42mdataset\u001b[0m/               runs.py\n",
      " ensemble.py            script.py\n",
      " \u001b[01;34mEnsemble_tabm\u001b[0m/         streamlit_app.py\n",
      " \u001b[01;34mLearning\u001b[0m/             'submission_cur_best+tabm_b1234_10fold(cb)_93.92695.csv'\n",
      " main_autogluon.ipynb   tabm_example_shell_run.ipynb\n",
      " main.py                tabm_example_shell_tune_cv_v1.ipynb\n",
      " my_tabm.py             tabpfn.ipynb\n",
      " \u001b[01;34moptuna\u001b[0m/                test_data.py\n",
      " organizer.ipynb        test.ipynb\n",
      " plan.txt               train_data.py\n",
      " \u001b[01;34m__pycache__\u001b[0m/\n"
     ]
    }
   ],
   "source": [
    "ls"
   ]
  }
 ],
 "metadata": {
  "kernelspec": {
   "display_name": "torch",
   "language": "python",
   "name": "python3"
  },
  "language_info": {
   "codemirror_mode": {
    "name": "ipython",
    "version": 3
   },
   "file_extension": ".py",
   "mimetype": "text/x-python",
   "name": "python",
   "nbconvert_exporter": "python",
   "pygments_lexer": "ipython3",
   "version": "3.13.5"
  }
 },
 "nbformat": 4,
 "nbformat_minor": 5
}
